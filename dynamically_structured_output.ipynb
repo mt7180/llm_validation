{
 "cells": [
  {
   "cell_type": "markdown",
   "metadata": {},
   "source": [
    "# Dynamically Structured LLM Output \n",
    "an experiment on how it may be possible to let the LLM create dynamically structured output under fixed boundary conditions - explicitely spoken: letting the LLM create a schema dynamically based on inner knowledge and the pydantic BaseModel.\n",
    "\n",
    "The not entirely explicite solution used here leverages a combination of \n",
    "- the pydantic `create_model()` factory function, \n",
    "- the pydantic `model_validator` and \n",
    "- the instructor library."
   ]
  },
  {
   "cell_type": "code",
   "execution_count": 1,
   "metadata": {},
   "outputs": [],
   "source": [
    "import instructor\n",
    "from pydantic import (\n",
    "    BaseModel, \n",
    "    Field, \n",
    "    ValidationInfo, \n",
    "    create_model,\n",
    "    model_validator,\n",
    ")\n",
    "\n",
    "from dotenv import load_dotenv\n",
    "\n",
    "from openai import OpenAI\n",
    "from typing import TypeVar, List, Iterable, Optional, Dict, Literal, Type\n",
    "\n",
    "\n",
    "load_dotenv()\n",
    "\n",
    "client = instructor.patch(OpenAI())"
   ]
  },
  {
   "cell_type": "markdown",
   "metadata": {},
   "source": [
    "#### The Pydantic `create_model`function dynamically creates and returns a new Pydantic model -> class factory :"
   ]
  },
  {
   "cell_type": "code",
   "execution_count": 2,
   "metadata": {},
   "outputs": [],
   "source": [
    "def get_model_by_fields(fields):\n",
    "    return create_model(\n",
    "        'CustomUser',\n",
    "        **fields,   #{property_name: property_type]) for property_name, property_type in fields.items()},\n",
    "        __base__=BaseModel,\n",
    "    )"
   ]
  },
  {
   "cell_type": "code",
   "execution_count": 3,
   "metadata": {},
   "outputs": [],
   "source": [
    "context = [\n",
    "    \"Brandon is 33 years old. He works as a solution architect.\",\n",
    "    \"Dominic is 45 years old. He is retired.\",\n",
    "    \"There onces was a prince, named Benny. He ruled for 10 years, which just ended. He started at 22.\",\n",
    "    \"Simon says, why are you 22 years old marvin?\",\n",
    "]"
   ]
  },
  {
   "cell_type": "markdown",
   "metadata": {},
   "source": [
    "#### The Models and a Model Validator:"
   ]
  },
  {
   "cell_type": "code",
   "execution_count": 4,
   "metadata": {},
   "outputs": [],
   "source": [
    "\n",
    "CustomUser = TypeVar(\"CustomUser\", bound=BaseModel)\n",
    "\n",
    "\n",
    "class Property(BaseModel):\n",
    "    \"\"\"property name and corresponding type\"\"\"\n",
    "    name: str = Field(...,description=\"must be snake case\")\n",
    "    type: Literal[\"string\", \"integer\", \"boolean\"]\n",
    "\n",
    "\n",
    "class CustomUserModel(BaseModel):\n",
    "    \"\"\"model for user properties\"\"\"\n",
    "    custom_properties: List[Property] = Field(...)\n",
    "    user_model: Optional[Type[BaseModel]] = None\n",
    "    users: Optional[List[CustomUser] ] = None\n",
    "\n",
    "    @model_validator(mode=\"after\")\n",
    "    def parse_users(self,  info:ValidationInfo):\n",
    "        print(f\"{info=}\")\n",
    "        print(f\"{self=}\")\n",
    "\n",
    "        prop_definition = {\n",
    "            \"string\": (\"str\",\"\"),\n",
    "            \"integer\": (\"int\",0),\n",
    "            \"boolean\": (\"bool\", True),\n",
    "        }\n",
    "        properties = {prop.name: (prop_definition[prop.type]) for prop in self.custom_properties}\n",
    "        \n",
    "        print(f\"{properties=}\")\n",
    "        if not properties:\n",
    "            raise ValueError(\"user schema empty\")\n",
    "        CustomUser = get_model_by_fields(properties)\n",
    "       \n",
    "        self.user_model = CustomUser\n",
    "\n",
    "\n",
    "        resp = client.chat.completions.create(\n",
    "            response_model=Iterable[CustomUser],\n",
    "            messages=[\n",
    "                \n",
    "                {\n",
    "                    \"role\": \"user\",\n",
    "                    \"content\": f\"parse the users: {info}.\"\n",
    "                },\n",
    "            ],\n",
    "            model=\"gpt-3.5-turbo\",\n",
    "            temperature=0,\n",
    "        )  # type: ignore\n",
    "       \n",
    "        print(f\"inner response: {resp}\")\n",
    "       \n",
    "        self.users=resp\n",
    "        return self\n",
    "\n",
    "    "
   ]
  },
  {
   "cell_type": "markdown",
   "metadata": {},
   "source": [
    "#### The LLM Query"
   ]
  },
  {
   "cell_type": "code",
   "execution_count": 5,
   "metadata": {},
   "outputs": [
    {
     "name": "stdout",
     "output_type": "stream",
     "text": [
      "info=ValidationInfo(config={'title': 'CustomUserModel'}, context={'context': 'Brandon is 33 years old. He works as a solution architect. Dominic is 45 years old. He is retired. There onces was a prince, named Benny. He ruled for 10 years, which just ended. He started at 22. Simon says, why are you 22 years old marvin?'}, data=None, field_name=None)\n",
      "self=CustomUserModel(custom_properties=[Property(name='name', type='string'), Property(name='age', type='integer'), Property(name='occupation', type='string'), Property(name='is_retired', type='boolean'), Property(name='reign_years', type='integer'), Property(name='start_age', type='integer')], user_model=None, users=None)\n",
      "properties={'name': ('str', ''), 'age': ('int', 0), 'occupation': ('str', ''), 'is_retired': ('bool', True), 'reign_years': ('int', 0), 'start_age': ('int', 0)}\n",
      "inner response: [CustomUser(name='Brandon', age=33, occupation='solution architect', is_retired=False, reign_years=0, start_age=0), CustomUser(name='Dominic', age=45, occupation='', is_retired=True, reign_years=0, start_age=0), CustomUser(name='Benny', age=0, occupation='prince', is_retired=False, reign_years=10, start_age=22), CustomUser(name='Simon', age=0, occupation='', is_retired=False, reign_years=0, start_age=0), CustomUser(name='marvin', age=22, occupation='', is_retired=False, reign_years=0, start_age=0)]\n"
     ]
    }
   ],
   "source": [
    "\n",
    "resp = client.chat.completions.create(\n",
    "    #model=\"gpt-4\",\n",
    "    model=\"gpt-3.5-turbo\",\n",
    "    response_model=CustomUserModel,\n",
    "    max_retries=2,\n",
    "    messages=[\n",
    "        {\n",
    "            \"role\": \"system\",\n",
    "            \"content\": \"You are a world class data structure extractor.\",\n",
    "        },\n",
    "        {\n",
    "            \"role\": \"user\",\n",
    "            \"content\": f\"\"\"provide all necessary properties for a user data structure which captures all given information about the users decribed in the context below. \n",
    "            context: {' '.join(context)}\"\"\",\n",
    "        },\n",
    "        \n",
    "    ],\n",
    "    validation_context={\"context\": \" \".join(context)},\n",
    "    \n",
    ")\n",
    "\n"
   ]
  },
  {
   "cell_type": "code",
   "execution_count": 6,
   "metadata": {},
   "outputs": [
    {
     "data": {
      "text/plain": [
       "[CustomUser(name='Brandon', age=33, occupation='solution architect', is_retired=False, reign_years=0, start_age=0),\n",
       " CustomUser(name='Dominic', age=45, occupation='', is_retired=True, reign_years=0, start_age=0),\n",
       " CustomUser(name='Benny', age=0, occupation='prince', is_retired=False, reign_years=10, start_age=22),\n",
       " CustomUser(name='Simon', age=0, occupation='', is_retired=False, reign_years=0, start_age=0),\n",
       " CustomUser(name='marvin', age=22, occupation='', is_retired=False, reign_years=0, start_age=0)]"
      ]
     },
     "execution_count": 6,
     "metadata": {},
     "output_type": "execute_result"
    }
   ],
   "source": [
    "resp.users"
   ]
  },
  {
   "cell_type": "code",
   "execution_count": 7,
   "metadata": {},
   "outputs": [
    {
     "data": {
      "text/plain": [
       "__main__.CustomUser"
      ]
     },
     "execution_count": 7,
     "metadata": {},
     "output_type": "execute_result"
    }
   ],
   "source": [
    "resp.user_model"
   ]
  },
  {
   "cell_type": "code",
   "execution_count": 8,
   "metadata": {},
   "outputs": [
    {
     "data": {
      "text/plain": [
       "pydantic._internal._model_construction.ModelMetaclass"
      ]
     },
     "execution_count": 8,
     "metadata": {},
     "output_type": "execute_result"
    }
   ],
   "source": [
    "type(resp.user_model)"
   ]
  },
  {
   "cell_type": "code",
   "execution_count": 9,
   "metadata": {},
   "outputs": [
    {
     "name": "stdout",
     "output_type": "stream",
     "text": [
      "{'properties': {'age': {'default': 0, 'title': 'Age', 'type': 'integer'},\n",
      "                'is_retired': {'default': True,\n",
      "                               'title': 'Is Retired',\n",
      "                               'type': 'boolean'},\n",
      "                'name': {'default': '', 'title': 'Name', 'type': 'string'},\n",
      "                'occupation': {'default': '',\n",
      "                               'title': 'Occupation',\n",
      "                               'type': 'string'},\n",
      "                'reign_years': {'default': 0,\n",
      "                                'title': 'Reign Years',\n",
      "                                'type': 'integer'},\n",
      "                'start_age': {'default': 0,\n",
      "                              'title': 'Start Age',\n",
      "                              'type': 'integer'}},\n",
      " 'title': 'CustomUser',\n",
      " 'type': 'object'}\n"
     ]
    }
   ],
   "source": [
    "import pprint\n",
    "pprint.pprint(resp.user_model.model_json_schema())"
   ]
  },
  {
   "cell_type": "code",
   "execution_count": 10,
   "metadata": {},
   "outputs": [
    {
     "data": {
      "text/plain": [
       "[Property(name='name', type='string'),\n",
       " Property(name='age', type='integer'),\n",
       " Property(name='occupation', type='string'),\n",
       " Property(name='is_retired', type='boolean'),\n",
       " Property(name='reign_years', type='integer'),\n",
       " Property(name='start_age', type='integer')]"
      ]
     },
     "execution_count": 10,
     "metadata": {},
     "output_type": "execute_result"
    }
   ],
   "source": [
    "resp.custom_properties"
   ]
  },
  {
   "cell_type": "code",
   "execution_count": 11,
   "metadata": {},
   "outputs": [
    {
     "name": "stdout",
     "output_type": "stream",
     "text": [
      "{\n",
      "  \"name\": \"Brandon\",\n",
      "  \"age\": 33,\n",
      "  \"occupation\": \"solution architect\",\n",
      "  \"is_retired\": false,\n",
      "  \"reign_years\": 0,\n",
      "  \"start_age\": 0\n",
      "}\n",
      "{\n",
      "  \"name\": \"Dominic\",\n",
      "  \"age\": 45,\n",
      "  \"occupation\": \"\",\n",
      "  \"is_retired\": true,\n",
      "  \"reign_years\": 0,\n",
      "  \"start_age\": 0\n",
      "}\n",
      "{\n",
      "  \"name\": \"Benny\",\n",
      "  \"age\": 0,\n",
      "  \"occupation\": \"prince\",\n",
      "  \"is_retired\": false,\n",
      "  \"reign_years\": 10,\n",
      "  \"start_age\": 22\n",
      "}\n",
      "{\n",
      "  \"name\": \"Simon\",\n",
      "  \"age\": 0,\n",
      "  \"occupation\": \"\",\n",
      "  \"is_retired\": false,\n",
      "  \"reign_years\": 0,\n",
      "  \"start_age\": 0\n",
      "}\n",
      "{\n",
      "  \"name\": \"marvin\",\n",
      "  \"age\": 22,\n",
      "  \"occupation\": \"\",\n",
      "  \"is_retired\": false,\n",
      "  \"reign_years\": 0,\n",
      "  \"start_age\": 0\n",
      "}\n"
     ]
    }
   ],
   "source": [
    "for user in resp.users:\n",
    "    print(user.model_dump_json(indent=2))"
   ]
  },
  {
   "cell_type": "code",
   "execution_count": null,
   "metadata": {},
   "outputs": [],
   "source": []
  }
 ],
 "metadata": {
  "kernelspec": {
   "display_name": "venv",
   "language": "python",
   "name": "python3"
  },
  "language_info": {
   "codemirror_mode": {
    "name": "ipython",
    "version": 3
   },
   "file_extension": ".py",
   "mimetype": "text/x-python",
   "name": "python",
   "nbconvert_exporter": "python",
   "pygments_lexer": "ipython3",
   "version": "3.11.7"
  }
 },
 "nbformat": 4,
 "nbformat_minor": 2
}
